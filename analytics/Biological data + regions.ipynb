{
 "cells": [
  {
   "cell_type": "code",
   "execution_count": 1,
   "metadata": {
    "collapsed": false
   },
   "outputs": [
    {
     "name": "stderr",
     "output_type": "stream",
     "text": [
      "/opt/local/Library/Frameworks/Python.framework/Versions/2.7/lib/python2.7/site-packages/matplotlib/__init__.py:872: UserWarning: axes.color_cycle is deprecated and replaced with axes.prop_cycle; please use the latter.\n",
      "  warnings.warn(self.msg_depr % (key, alt_key))\n"
     ]
    }
   ],
   "source": [
    "%matplotlib inline"
   ]
  },
  {
   "cell_type": "code",
   "execution_count": 49,
   "metadata": {
    "collapsed": true
   },
   "outputs": [],
   "source": [
    "import pandas as pd\n",
    "import numpy as np\n",
    "import seaborn as sns\n",
    "from matplotlib import pyplot as plt"
   ]
  },
  {
   "cell_type": "code",
   "execution_count": 50,
   "metadata": {
    "collapsed": true
   },
   "outputs": [],
   "source": [
    "sns.set(style='whitegrid')"
   ]
  },
  {
   "cell_type": "code",
   "execution_count": 11,
   "metadata": {
    "collapsed": false
   },
   "outputs": [
    {
     "data": {
      "text/html": [
       "<div>\n",
       "<table border=\"1\" class=\"dataframe\">\n",
       "  <thead>\n",
       "    <tr style=\"text-align: right;\">\n",
       "      <th></th>\n",
       "      <th>x</th>\n",
       "      <th>y</th>\n",
       "      <th>z</th>\n",
       "    </tr>\n",
       "  </thead>\n",
       "  <tbody>\n",
       "    <tr>\n",
       "      <th>0</th>\n",
       "      <td>4.69</td>\n",
       "      <td>-77.80</td>\n",
       "      <td>27.27</td>\n",
       "    </tr>\n",
       "    <tr>\n",
       "      <th>1</th>\n",
       "      <td>5.08</td>\n",
       "      <td>-92.06</td>\n",
       "      <td>-13.39</td>\n",
       "    </tr>\n",
       "    <tr>\n",
       "      <th>2</th>\n",
       "      <td>24.73</td>\n",
       "      <td>-9.87</td>\n",
       "      <td>61.96</td>\n",
       "    </tr>\n",
       "    <tr>\n",
       "      <th>3</th>\n",
       "      <td>-0.16</td>\n",
       "      <td>35.16</td>\n",
       "      <td>-16.18</td>\n",
       "    </tr>\n",
       "    <tr>\n",
       "      <th>4</th>\n",
       "      <td>-19.91</td>\n",
       "      <td>-63.44</td>\n",
       "      <td>62.44</td>\n",
       "    </tr>\n",
       "  </tbody>\n",
       "</table>\n",
       "</div>"
      ],
      "text/plain": [
       "       x      y      z\n",
       "0   4.69 -77.80  27.27\n",
       "1   5.08 -92.06 -13.39\n",
       "2  24.73  -9.87  61.96\n",
       "3  -0.16  35.16 -16.18\n",
       "4 -19.91 -63.44  62.44"
      ]
     },
     "execution_count": 11,
     "metadata": {},
     "output_type": "execute_result"
    }
   ],
   "source": [
    "mean_xyz = pd.read_csv('no_over_3mm_mean/roi_MeanXYZ', header=None, names= ['x','y','z'], sep='\\t')\n",
    "mean_xyz.head()"
   ]
  },
  {
   "cell_type": "code",
   "execution_count": 34,
   "metadata": {
    "collapsed": false
   },
   "outputs": [
    {
     "data": {
      "text/plain": [
       "[0, 1, 2]"
      ]
     },
     "execution_count": 34,
     "metadata": {},
     "output_type": "execute_result"
    }
   ],
   "source": [
    "range(10)[:3]"
   ]
  },
  {
   "cell_type": "code",
   "execution_count": 76,
   "metadata": {
    "collapsed": false
   },
   "outputs": [],
   "source": [
    "def activity_for(file):\n",
    "    answer = []\n",
    "    with open(file) as f:\n",
    "        for line in f.readlines():\n",
    "            values = line.split('\\t')\n",
    "            answer.append([float(x) for x in values[:3]] + [len(values) - 3])\n",
    "    return pd.DataFrame(answer, columns=['x', 'y', 'z', 'total'])"
   ]
  },
  {
   "cell_type": "code",
   "execution_count": 91,
   "metadata": {
    "collapsed": true
   },
   "outputs": [],
   "source": [
    "def inputs_and_regions_for(energy_name):\n",
    "    inputData = pd.read_csv('SampleLogs/{}_Input.csv'.format(energy_name), index_col='time', \\\n",
    "                            names= ['time', 'source', 'destination', 'inhibitor'])\n",
    "    regions = pd.read_csv('SampleLogs/{}_Region.csv'.format(energy_name), index_col='neuron', \\\n",
    "                          names=['neuron', 'region'])\n",
    "    lowerLimit = pd.to_datetime(5, unit='s')\n",
    "    inputData.index = pd.to_datetime(inputData.index, unit='ms')\n",
    "    inputData = inputData[lowerLimit:]\n",
    "    inputs_and_regions = inputData.join(regions, \\\n",
    "                                        on='source').join(regions, \\\n",
    "                                        on= 'destination', lsuffix='_src', rsuffix='_dst')\n",
    "    inputs_and_regions['efective_input'] = 1*(1-inputs_and_regions.inhibitor) -1*inputs_and_regions.inhibitor\n",
    "    answer = inputs_and_regions.groupby([inputs_and_regions.region_src  == inputs_and_regions.region_dst, 'region_src']).\\\n",
    "            efective_input.count().unstack().T\n",
    "    answer['total'] = answer.sum(axis=1)\n",
    "    answer = answer.rename(columns={True: 'within_regions', False:'between_regions'})\n",
    "    return answer"
   ]
  },
  {
   "cell_type": "code",
   "execution_count": 77,
   "metadata": {
    "collapsed": false
   },
   "outputs": [],
   "source": [
    "gluco = activity_for('3_data/reno_over_3mm_meaninvitationtocollaborate/3mm_mean-GLUCO_XYZspikeTrain.txt')"
   ]
  },
  {
   "cell_type": "code",
   "execution_count": 78,
   "metadata": {
    "collapsed": false
   },
   "outputs": [],
   "source": [
    "hypo = activity_for('3_data/reno_over_3mm_meaninvitationtocollaborate/3mm_mean-hypo_XYZspikeTrain.txt')"
   ]
  },
  {
   "cell_type": "code",
   "execution_count": 79,
   "metadata": {
    "collapsed": false
   },
   "outputs": [],
   "source": [
    "keto = activity_for('3_data/reno_over_3mm_meaninvitationtocollaborate/3mm_mean-KETO_XYZspikeTrain.txt')"
   ]
  },
  {
   "cell_type": "code",
   "execution_count": 80,
   "metadata": {
    "collapsed": false
   },
   "outputs": [
    {
     "data": {
      "text/plain": [
       "<matplotlib.legend.Legend at 0x10d7dc590>"
      ]
     },
     "execution_count": 80,
     "metadata": {},
     "output_type": "execute_result"
    },
    {
     "data": {
      "image/png": "[encoded data removed]",
      "text/plain": [
       "<matplotlib.figure.Figure at 0x10d769650>"
      ]
     },
     "metadata": {},
     "output_type": "display_data"
    }
   ],
   "source": [
    "gluco.total.hist(alpha=0.5, bins=20, label='gluco')\n",
    "keto.total.hist(alpha=0.5, bins=20, label='keto')\n",
    "hypo.total.hist(alpha=0.5, bins=20, label='hypo')\n",
    "plt.legend()"
   ]
  },
  {
   "cell_type": "code",
   "execution_count": 81,
   "metadata": {
    "collapsed": true
   },
   "outputs": [],
   "source": [
    "region_location = pd.read_csv('../static/models/regions.obj', header=None, sep=' ')\n",
    "region_location.index = range(1, len(region_location)+1)\n",
    "region_location = region_location.drop(0, axis=1)\n",
    "region_location.columns = ['x', 'y', 'z']"
   ]
  },
  {
   "cell_type": "code",
   "execution_count": 82,
   "metadata": {
    "collapsed": false
   },
   "outputs": [
    {
     "data": {
      "text/plain": [
       "(188, 3)"
      ]
     },
     "execution_count": 82,
     "metadata": {},
     "output_type": "execute_result"
    }
   ],
   "source": [
    "region_location.shape"
   ]
  },
  {
   "cell_type": "code",
   "execution_count": 83,
   "metadata": {
    "collapsed": true
   },
   "outputs": [],
   "source": [
    "min_sqrt = lambda serie: ((serie.x-region_location.x)**2 + (serie.y-region_location.y)**2 \\\n",
    "                          + (serie.z-region_location.z)**2).argmin()"
   ]
  },
  {
   "cell_type": "code",
   "execution_count": 84,
   "metadata": {
    "collapsed": true
   },
   "outputs": [],
   "source": [
    "gluco['region'] = gluco.apply(min_sqrt, axis=1)\n",
    "hypo['region'] = hypo.apply(min_sqrt, axis=1)\n",
    "keto['region'] = keto.apply(min_sqrt, axis=1)"
   ]
  },
  {
   "cell_type": "code",
   "execution_count": 85,
   "metadata": {
    "collapsed": false
   },
   "outputs": [],
   "source": [
    "gluco.index = gluco.region\n",
    "hypo.index = hypo.region\n",
    "keto.index = keto.region"
   ]
  },
  {
   "cell_type": "code",
   "execution_count": 86,
   "metadata": {
    "collapsed": false
   },
   "outputs": [
    {
     "data": {
      "text/plain": [
       "<matplotlib.axes._subplots.AxesSubplot at 0x10d7dce50>"
      ]
     },
     "execution_count": 86,
     "metadata": {},
     "output_type": "execute_result"
    },
    {
     "data": {
      "image/png": "[encoded data removed]",
      "text/plain": [
       "<matplotlib.figure.Figure at 0x10d769b50>"
      ]
     },
     "metadata": {},
     "output_type": "display_data"
    }
   ],
   "source": [
    "gluco.region.value_counts().hist()"
   ]
  },
  {
   "cell_type": "code",
   "execution_count": 87,
   "metadata": {
    "collapsed": false
   },
   "outputs": [
    {
     "data": {
      "text/html": [
       "<div>\n",
       "<table border=\"1\" class=\"dataframe\">\n",
       "  <thead>\n",
       "    <tr style=\"text-align: right;\">\n",
       "      <th></th>\n",
       "      <th>Brain-Stem</th>\n",
       "    </tr>\n",
       "  </thead>\n",
       "  <tbody>\n",
       "    <tr>\n",
       "      <th>0</th>\n",
       "      <td>Right Planum Polare</td>\n",
       "    </tr>\n",
       "    <tr>\n",
       "      <th>1</th>\n",
       "      <td>Left Temporal Pole</td>\n",
       "    </tr>\n",
       "    <tr>\n",
       "      <th>2</th>\n",
       "      <td>Right Frontal Pole</td>\n",
       "    </tr>\n",
       "    <tr>\n",
       "      <th>3</th>\n",
       "      <td>Right Temporal Fusiform anterior</td>\n",
       "    </tr>\n",
       "    <tr>\n",
       "      <th>4</th>\n",
       "      <td>Left Frontal Pole</td>\n",
       "    </tr>\n",
       "  </tbody>\n",
       "</table>\n",
       "</div>"
      ],
      "text/plain": [
       "                          Brain-Stem\n",
       "0                Right Planum Polare\n",
       "1                 Left Temporal Pole\n",
       "2                 Right Frontal Pole\n",
       "3  Right Temporal Fusiform anterior \n",
       "4                  Left Frontal Pole"
      ]
     },
     "execution_count": 87,
     "metadata": {},
     "output_type": "execute_result"
    }
   ],
   "source": [
    "region_names = pd.read_csv('1013090_DTI_region_names_full_file.txt')\n",
    "region_names.head()"
   ]
  },
  {
   "cell_type": "code",
   "execution_count": 88,
   "metadata": {
    "collapsed": true
   },
   "outputs": [],
   "source": [
    "region_names.index = region_names.index+1"
   ]
  },
  {
   "cell_type": "code",
   "execution_count": 92,
   "metadata": {
    "collapsed": true
   },
   "outputs": [],
   "source": [
    "medium = inputs_and_regions_for('MediumConst')\n",
    "low  = inputs_and_regions_for('LowConst')\n",
    "high  = inputs_and_regions_for('HighConst')"
   ]
  },
  {
   "cell_type": "code",
   "execution_count": 135,
   "metadata": {
    "collapsed": false
   },
   "outputs": [],
   "source": [
    "mapping = {k:v.groupby('region').aggregate(np.sum) for k, v in \\\n",
    "         {'gluco': gluco, 'hypo': hypo, 'keto' : keto}.iteritems()}\n",
    "mapping.update({'medium': medium, 'low': low, 'high': high})\n",
    "df = pd.DataFrame.from_dict({k:pd.Series(v.sort_values('total', ascending=False).index) for k,v in mapping.iteritems()})"
   ]
  },
  {
   "cell_type": "code",
   "execution_count": 136,
   "metadata": {
    "collapsed": false
   },
   "outputs": [],
   "source": [
    "df = df.fillna(0)"
   ]
  },
  {
   "cell_type": "code",
   "execution_count": 138,
   "metadata": {
    "collapsed": false
   },
   "outputs": [
    {
     "data": {
      "text/html": [
       "<div>\n",
       "<table border=\"1\" class=\"dataframe\">\n",
       "  <thead>\n",
       "    <tr style=\"text-align: right;\">\n",
       "      <th></th>\n",
       "      <th>gluco</th>\n",
       "      <th>high</th>\n",
       "      <th>hypo</th>\n",
       "      <th>keto</th>\n",
       "      <th>low</th>\n",
       "      <th>medium</th>\n",
       "    </tr>\n",
       "  </thead>\n",
       "  <tbody>\n",
       "    <tr>\n",
       "      <th>gluco</th>\n",
       "      <td>1.000000</td>\n",
       "      <td>-0.093022</td>\n",
       "      <td>0.148450</td>\n",
       "      <td>0.089616</td>\n",
       "      <td>-0.090974</td>\n",
       "      <td>0.112366</td>\n",
       "    </tr>\n",
       "    <tr>\n",
       "      <th>high</th>\n",
       "      <td>-0.093022</td>\n",
       "      <td>1.000000</td>\n",
       "      <td>-0.079709</td>\n",
       "      <td>0.045345</td>\n",
       "      <td>0.025942</td>\n",
       "      <td>0.033223</td>\n",
       "    </tr>\n",
       "    <tr>\n",
       "      <th>hypo</th>\n",
       "      <td>0.148450</td>\n",
       "      <td>-0.079709</td>\n",
       "      <td>1.000000</td>\n",
       "      <td>0.106117</td>\n",
       "      <td>-0.066964</td>\n",
       "      <td>0.027139</td>\n",
       "    </tr>\n",
       "    <tr>\n",
       "      <th>keto</th>\n",
       "      <td>0.089616</td>\n",
       "      <td>0.045345</td>\n",
       "      <td>0.106117</td>\n",
       "      <td>1.000000</td>\n",
       "      <td>-0.011094</td>\n",
       "      <td>0.009729</td>\n",
       "    </tr>\n",
       "    <tr>\n",
       "      <th>low</th>\n",
       "      <td>-0.090974</td>\n",
       "      <td>0.025942</td>\n",
       "      <td>-0.066964</td>\n",
       "      <td>-0.011094</td>\n",
       "      <td>1.000000</td>\n",
       "      <td>-0.013767</td>\n",
       "    </tr>\n",
       "    <tr>\n",
       "      <th>medium</th>\n",
       "      <td>0.112366</td>\n",
       "      <td>0.033223</td>\n",
       "      <td>0.027139</td>\n",
       "      <td>0.009729</td>\n",
       "      <td>-0.013767</td>\n",
       "      <td>1.000000</td>\n",
       "    </tr>\n",
       "  </tbody>\n",
       "</table>\n",
       "</div>"
      ],
      "text/plain": [
       "           gluco      high      hypo      keto       low    medium\n",
       "gluco   1.000000 -0.093022  0.148450  0.089616 -0.090974  0.112366\n",
       "high   -0.093022  1.000000 -0.079709  0.045345  0.025942  0.033223\n",
       "hypo    0.148450 -0.079709  1.000000  0.106117 -0.066964  0.027139\n",
       "keto    0.089616  0.045345  0.106117  1.000000 -0.011094  0.009729\n",
       "low    -0.090974  0.025942 -0.066964 -0.011094  1.000000 -0.013767\n",
       "medium  0.112366  0.033223  0.027139  0.009729 -0.013767  1.000000"
      ]
     },
     "execution_count": 138,
     "metadata": {},
     "output_type": "execute_result"
    }
   ],
   "source": [
    "df.corr(method='kendall')"
   ]
  },
  {
   "cell_type": "code",
   "execution_count": 169,
   "metadata": {
    "collapsed": true
   },
   "outputs": [],
   "source": [
    "def sorting_and_naming(df):\n",
    "    values =  df.join(region_names).sort_values('total', ascending=False)['Brain-Stem'].values\n",
    "    return pd.Series(values)"
   ]
  },
  {
   "cell_type": "code",
   "execution_count": 162,
   "metadata": {
    "collapsed": true
   },
   "outputs": [],
   "source": [
    "df = pd.DataFrame.from_dict({k: sorting_and_naming(v)\\\n",
    "                             for k,v in mapping.iteritems()})"
   ]
  },
  {
   "cell_type": "code",
   "execution_count": 174,
   "metadata": {
    "collapsed": false
   },
   "outputs": [
    {
     "data": {
      "text/html": [
       "<div>\n",
       "<table border=\"1\" class=\"dataframe\">\n",
       "  <thead>\n",
       "    <tr style=\"text-align: right;\">\n",
       "      <th></th>\n",
       "      <th>gluco</th>\n",
       "      <th>high</th>\n",
       "      <th>hypo</th>\n",
       "      <th>keto</th>\n",
       "      <th>low</th>\n",
       "      <th>medium</th>\n",
       "    </tr>\n",
       "  </thead>\n",
       "  <tbody>\n",
       "    <tr>\n",
       "      <th>0</th>\n",
       "      <td>Left Postcentral</td>\n",
       "      <td>Left Cingulate anterior</td>\n",
       "      <td>Left Postcentral</td>\n",
       "      <td>Left Postcentral</td>\n",
       "      <td>Left Paracingulate</td>\n",
       "      <td>Right Paracingulate</td>\n",
       "    </tr>\n",
       "    <tr>\n",
       "      <th>1</th>\n",
       "      <td>Right V</td>\n",
       "      <td>Right Precentral</td>\n",
       "      <td>Left Angular</td>\n",
       "      <td>Right Temporal Pole</td>\n",
       "      <td>Left Lateral Occipital superior</td>\n",
       "      <td>Left Temporal Fusiform posterior</td>\n",
       "    </tr>\n",
       "    <tr>\n",
       "      <th>2</th>\n",
       "      <td>Left Angular</td>\n",
       "      <td>Right Crus I</td>\n",
       "      <td>Right V</td>\n",
       "      <td>Left Angular</td>\n",
       "      <td>Left Frontal Pole</td>\n",
       "      <td>Right Postcentral</td>\n",
       "    </tr>\n",
       "    <tr>\n",
       "      <th>3</th>\n",
       "      <td>Right Postcentral</td>\n",
       "      <td>Left Temporal Occipital Fusiform</td>\n",
       "      <td>Right Temporal Pole</td>\n",
       "      <td>Right Lateral Occipital superior</td>\n",
       "      <td>Left Postcentral</td>\n",
       "      <td>Left Supramarginal anterior</td>\n",
       "    </tr>\n",
       "    <tr>\n",
       "      <th>4</th>\n",
       "      <td>Right Temporal Pole</td>\n",
       "      <td>Right Temporal Pole</td>\n",
       "      <td>Right Postcentral</td>\n",
       "      <td>Right Superior Temporal posterior</td>\n",
       "      <td>Right Central Opercular</td>\n",
       "      <td>Left Cingulate posterior</td>\n",
       "    </tr>\n",
       "  </tbody>\n",
       "</table>\n",
       "</div>"
      ],
      "text/plain": [
       "                 gluco                               high  \\\n",
       "0    Left Postcentral            Left Cingulate anterior    \n",
       "1              Right V                  Right Precentral    \n",
       "2        Left Angular                        Right Crus I   \n",
       "3   Right Postcentral   Left Temporal Occipital Fusiform    \n",
       "4  Right Temporal Pole                Right Temporal Pole   \n",
       "\n",
       "                  hypo                                keto  \\\n",
       "0    Left Postcentral                    Left Postcentral    \n",
       "1        Left Angular                  Right Temporal Pole   \n",
       "2              Right V                       Left Angular    \n",
       "3  Right Temporal Pole   Right Lateral Occipital superior    \n",
       "4   Right Postcentral   Right Superior Temporal posterior    \n",
       "\n",
       "                                low                             medium  \n",
       "0               Left Paracingulate                Right Paracingulate   \n",
       "1  Left Lateral Occipital superior   Left Temporal Fusiform posterior   \n",
       "2                 Left Frontal Pole                 Right Postcentral   \n",
       "3                 Left Postcentral        Left Supramarginal anterior   \n",
       "4          Right Central Opercular           Left Cingulate posterior   "
      ]
     },
     "execution_count": 174,
     "metadata": {},
     "output_type": "execute_result"
    }
   ],
   "source": [
    "df.head()"
   ]
  },
  {
   "cell_type": "code",
   "execution_count": 177,
   "metadata": {
    "collapsed": false
   },
   "outputs": [
    {
     "data": {
      "text/plain": [
       "0.026595744680851064"
      ]
     },
     "execution_count": 177,
     "metadata": {},
     "output_type": "execute_result"
    }
   ],
   "source": [
    "(df.gluco == df.high).mean()"
   ]
  },
  {
   "cell_type": "code",
   "execution_count": 178,
   "metadata": {
    "collapsed": false
   },
   "outputs": [
    {
     "data": {
      "text/plain": [
       "0.074468085106382975"
      ]
     },
     "execution_count": 178,
     "metadata": {},
     "output_type": "execute_result"
    }
   ],
   "source": [
    "(df.gluco == df.hypo).mean()"
   ]
  },
  {
   "cell_type": "code",
   "execution_count": 179,
   "metadata": {
    "collapsed": false
   },
   "outputs": [
    {
     "data": {
      "text/plain": [
       "0.042553191489361701"
      ]
     },
     "execution_count": 179,
     "metadata": {},
     "output_type": "execute_result"
    }
   ],
   "source": [
    "(df.gluco == df.keto).mean()"
   ]
  },
  {
   "cell_type": "code",
   "execution_count": 180,
   "metadata": {
    "collapsed": false
   },
   "outputs": [
    {
     "data": {
      "text/plain": [
       "0.021276595744680851"
      ]
     },
     "execution_count": 180,
     "metadata": {},
     "output_type": "execute_result"
    }
   ],
   "source": [
    "(df.gluco == df.medium).mean()"
   ]
  },
  {
   "cell_type": "code",
   "execution_count": 181,
   "metadata": {
    "collapsed": false
   },
   "outputs": [
    {
     "data": {
      "text/plain": [
       "0.010638297872340425"
      ]
     },
     "execution_count": 181,
     "metadata": {},
     "output_type": "execute_result"
    }
   ],
   "source": [
    "(df.high == df.low).mean()"
   ]
  },
  {
   "cell_type": "code",
   "execution_count": 182,
   "metadata": {
    "collapsed": false
   },
   "outputs": [
    {
     "data": {
      "text/plain": [
       "0.037234042553191488"
      ]
     },
     "execution_count": 182,
     "metadata": {},
     "output_type": "execute_result"
    }
   ],
   "source": [
    "(df.high == df.medium).mean()"
   ]
  },
  {
   "cell_type": "code",
   "execution_count": 183,
   "metadata": {
    "collapsed": false
   },
   "outputs": [
    {
     "data": {
      "text/plain": [
       "0.0053191489361702126"
      ]
     },
     "execution_count": 183,
     "metadata": {},
     "output_type": "execute_result"
    }
   ],
   "source": [
    "(df.high == df.hypo).mean()"
   ]
  },
  {
   "cell_type": "code",
   "execution_count": 184,
   "metadata": {
    "collapsed": false
   },
   "outputs": [
    {
     "data": {
      "text/plain": [
       "0.0053191489361702126"
      ]
     },
     "execution_count": 184,
     "metadata": {},
     "output_type": "execute_result"
    }
   ],
   "source": [
    "(df.medium == df.low).mean()"
   ]
  },
  {
   "cell_type": "code",
   "execution_count": null,
   "metadata": {
    "collapsed": true
   },
   "outputs": [],
   "source": []
  }
 ],
 "metadata": {
  "kernelspec": {
   "display_name": "Python 2",
   "language": "python",
   "name": "python2"
  },
  "language_info": {
   "codemirror_mode": {
    "name": "ipython",
    "version": 2
   },
   "file_extension": ".py",
   "mimetype": "text/x-python",
   "name": "python",
   "nbconvert_exporter": "python",
   "pygments_lexer": "ipython2",
   "version": "2.7.10"
  }
 },
 "nbformat": 4,
 "nbformat_minor": 0
}
