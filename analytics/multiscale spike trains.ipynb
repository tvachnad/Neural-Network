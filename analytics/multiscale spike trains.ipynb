{
 "cells": [
  {
   "cell_type": "markdown",
   "metadata": {},
   "source": [
    "# Spike Trains\n",
    "Lining up outputs and generating graphs of the inputs leading up to that output. Inputs can either come from inhibitory or excitatory neurons."
   ]
  },
  {
   "cell_type": "code",
   "execution_count": 1,
   "metadata": {
    "collapsed": true
   },
   "outputs": [],
   "source": [
    "%matplotlib inline"
   ]
  },
  {
   "cell_type": "code",
   "execution_count": 2,
   "metadata": {
    "collapsed": true
   },
   "outputs": [],
   "source": [
    "import pandas as pd\n",
    "import numpy as np\n",
    "import seaborn as sns\n",
    "import matplotlib.pyplot as plt"
   ]
  },
  {
   "cell_type": "code",
   "execution_count": 3,
   "metadata": {
    "collapsed": true
   },
   "outputs": [],
   "source": [
    "sns.set(style='whitegrid')"
   ]
  },
  {
   "cell_type": "code",
   "execution_count": 4,
   "metadata": {
    "collapsed": false
   },
   "outputs": [],
   "source": [
    "inputData = pd.read_csv('~/Documents/2015-2016/499P/code/BrainPowerLogs/Input/2015-11-30_12-33-29', names= ['time', 'src', 'dest', 'inhibitor'])"
   ]
  },
  {
   "cell_type": "code",
   "execution_count": 5,
   "metadata": {
    "collapsed": false
   },
   "outputs": [],
   "source": [
    "firingData = pd.read_csv('~/Documents/2015-2016/499P/code/BrainPowerLogs/Firing/2015-11-30_12-33-29', names= ['time', 'neuron', 'fired'])"
   ]
  },
  {
   "cell_type": "code",
   "execution_count": 6,
   "metadata": {
    "collapsed": true
   },
   "outputs": [],
   "source": [
    "# time steps\n",
    "ex = []\n",
    "ix = []\n",
    "time_range = 10\n",
    "\n",
    "# excitatory signals\n",
    "e = []\n",
    "# inhibitory signals\n",
    "i = []"
   ]
  },
  {
   "cell_type": "code",
   "execution_count": 7,
   "metadata": {
    "collapsed": false
   },
   "outputs": [
    {
     "data": {
      "text/html": [
       "<div>\n",
       "<table border=\"1\" class=\"dataframe\">\n",
       "  <thead>\n",
       "    <tr style=\"text-align: right;\">\n",
       "      <th></th>\n",
       "      <th>time</th>\n",
       "      <th>src</th>\n",
       "      <th>dest</th>\n",
       "      <th>inhibitor</th>\n",
       "    </tr>\n",
       "  </thead>\n",
       "  <tbody>\n",
       "    <tr>\n",
       "      <th>7844</th>\n",
       "      <td>339</td>\n",
       "      <td>813</td>\n",
       "      <td>817</td>\n",
       "      <td>0</td>\n",
       "    </tr>\n",
       "    <tr>\n",
       "      <th>8024</th>\n",
       "      <td>340</td>\n",
       "      <td>812</td>\n",
       "      <td>817</td>\n",
       "      <td>0</td>\n",
       "    </tr>\n",
       "    <tr>\n",
       "      <th>8386</th>\n",
       "      <td>342</td>\n",
       "      <td>6221</td>\n",
       "      <td>817</td>\n",
       "      <td>1</td>\n",
       "    </tr>\n",
       "    <tr>\n",
       "      <th>8986</th>\n",
       "      <td>345</td>\n",
       "      <td>810</td>\n",
       "      <td>817</td>\n",
       "      <td>0</td>\n",
       "    </tr>\n",
       "    <tr>\n",
       "      <th>9356</th>\n",
       "      <td>347</td>\n",
       "      <td>813</td>\n",
       "      <td>817</td>\n",
       "      <td>0</td>\n",
       "    </tr>\n",
       "    <tr>\n",
       "      <th>9378</th>\n",
       "      <td>347</td>\n",
       "      <td>829</td>\n",
       "      <td>817</td>\n",
       "      <td>0</td>\n",
       "    </tr>\n",
       "    <tr>\n",
       "      <th>9460</th>\n",
       "      <td>347</td>\n",
       "      <td>6220</td>\n",
       "      <td>817</td>\n",
       "      <td>1</td>\n",
       "    </tr>\n",
       "  </tbody>\n",
       "</table>\n",
       "</div>"
      ],
      "text/plain": [
       "      time   src  dest  inhibitor\n",
       "7844   339   813   817          0\n",
       "8024   340   812   817          0\n",
       "8386   342  6221   817          1\n",
       "8986   345   810   817          0\n",
       "9356   347   813   817          0\n",
       "9378   347   829   817          0\n",
       "9460   347  6220   817          1"
      ]
     },
     "execution_count": 7,
     "metadata": {},
     "output_type": "execute_result"
    }
   ],
   "source": [
    "# An example of how we filter the input data for each neuron\n",
    "# In this example, neuron 817 fired at time 348 and we filter input based on these\n",
    "inputData[(inputData.dest==817)&(inputData.time<348)&(inputData.time>(348-time_range))]"
   ]
  },
  {
   "cell_type": "code",
   "execution_count": 8,
   "metadata": {
    "collapsed": false
   },
   "outputs": [],
   "source": [
    "for fire_data in firingData.values:\n",
    "    # time stamp when output occurred\n",
    "    t = fire_data[0]\n",
    "    # the neuron of interest\n",
    "    n = fire_data[1]\n",
    "    # filter by neuron and time range\n",
    "    filtered_input = inputData[(inputData.dest==n)&(inputData.time<t)&(inputData.time>(t-time_range))]\n",
    "    for row in filtered_input.values:\n",
    "        if row[3]:\n",
    "            ix.append(time_range-(t-row[0]))\n",
    "            i.append(n)\n",
    "        else:\n",
    "            ex.append(time_range-(t-row[0]))\n",
    "            e.append(n)"
   ]
  },
  {
   "cell_type": "code",
   "execution_count": 9,
   "metadata": {
    "collapsed": false
   },
   "outputs": [
    {
     "name": "stderr",
     "output_type": "stream",
     "text": [
      "/Users/cassiancorey/anaconda/lib/python3.5/site-packages/matplotlib/collections.py:590: FutureWarning: elementwise comparison failed; returning scalar instead, but in the future will perform elementwise comparison\n",
      "  if self._edgecolors == str('face'):\n"
     ]
    },
    {
     "data": {
      "image/png": "[encoded data removed]",
      "text/plain": [
       "<matplotlib.figure.Figure at 0x1064d7160>"
      ]
     },
     "metadata": {},
     "output_type": "display_data"
    }
   ],
   "source": [
    "plt.scatter(ex, e, c='g')\n",
    "plt.scatter(ix, i, c='r')\n",
    "plt.show()"
   ]
  },
  {
   "cell_type": "code",
   "execution_count": 13,
   "metadata": {
    "collapsed": true
   },
   "outputs": [],
   "source": [
    "sum_ex = [0]*(time_range+1)\n",
    "sum_ix = [0]*(time_range+1)\n",
    "\n",
    "for k in ex:\n",
    "    sum_ex[k]+=1\n",
    "for k in ix:\n",
    "    sum_ix[k]+=1"
   ]
  },
  {
   "cell_type": "code",
   "execution_count": 14,
   "metadata": {
    "collapsed": false,
    "scrolled": true
   },
   "outputs": [
    {
     "data": {
      "image/png": "[encoded data removed]",
      "text/plain": [
       "<matplotlib.figure.Figure at 0x10d37d860>"
      ]
     },
     "metadata": {},
     "output_type": "display_data"
    }
   ],
   "source": [
    "index = np.arange(time_range+1)\n",
    "bar_width = 0.35\n",
    "\n",
    "opacity=1\n",
    "rects1 = plt.bar(index, sum_ex, bar_width,\n",
    "                 alpha=opacity,\n",
    "                 color='g',\n",
    "                 label='Excitatory')\n",
    "\n",
    "rects2 = plt.bar(index + bar_width, sum_ix, bar_width,\n",
    "                 alpha=opacity,\n",
    "                 color='r',\n",
    "                 label='Inhibitory')\n",
    "\n",
    "plt.xlabel('Time Step')\n",
    "plt.ylabel('Sum Inputs')\n",
    "plt.title('Total input signals at time step before output')\n",
    "plt.legend()\n",
    "\n",
    "plt.tight_layout()\n",
    "plt.show()"
   ]
  },
  {
   "cell_type": "markdown",
   "metadata": {},
   "source": [
    "# Input/Firing Across Regions\n",
    "\n",
    "Now we treat regions as individual units and repeat the process above. "
   ]
  },
  {
   "cell_type": "code",
   "execution_count": 15,
   "metadata": {
    "collapsed": false
   },
   "outputs": [],
   "source": [
    "regionsData = pd.read_csv('~/Documents/2015-2016/499P/code/BrainPowerLogs/Region/2015-11-30_12-33-29', index_col='neuron', names= ['neuron', 'region'])"
   ]
  },
  {
   "cell_type": "code",
   "execution_count": 16,
   "metadata": {
    "collapsed": false
   },
   "outputs": [
    {
     "data": {
      "text/html": [
       "<div>\n",
       "<table border=\"1\" class=\"dataframe\">\n",
       "  <thead>\n",
       "    <tr style=\"text-align: right;\">\n",
       "      <th></th>\n",
       "      <th>time</th>\n",
       "      <th>neuron</th>\n",
       "      <th>fired</th>\n",
       "      <th>region</th>\n",
       "    </tr>\n",
       "  </thead>\n",
       "  <tbody>\n",
       "    <tr>\n",
       "      <th>0</th>\n",
       "      <td>21</td>\n",
       "      <td>2919</td>\n",
       "      <td>1</td>\n",
       "      <td>92</td>\n",
       "    </tr>\n",
       "    <tr>\n",
       "      <th>148</th>\n",
       "      <td>228</td>\n",
       "      <td>2919</td>\n",
       "      <td>1</td>\n",
       "      <td>92</td>\n",
       "    </tr>\n",
       "    <tr>\n",
       "      <th>282</th>\n",
       "      <td>269</td>\n",
       "      <td>2919</td>\n",
       "      <td>1</td>\n",
       "      <td>92</td>\n",
       "    </tr>\n",
       "    <tr>\n",
       "      <th>352</th>\n",
       "      <td>280</td>\n",
       "      <td>2919</td>\n",
       "      <td>1</td>\n",
       "      <td>92</td>\n",
       "    </tr>\n",
       "    <tr>\n",
       "      <th>452</th>\n",
       "      <td>292</td>\n",
       "      <td>2919</td>\n",
       "      <td>1</td>\n",
       "      <td>92</td>\n",
       "    </tr>\n",
       "  </tbody>\n",
       "</table>\n",
       "</div>"
      ],
      "text/plain": [
       "     time  neuron  fired  region\n",
       "0      21    2919      1      92\n",
       "148   228    2919      1      92\n",
       "282   269    2919      1      92\n",
       "352   280    2919      1      92\n",
       "452   292    2919      1      92"
      ]
     },
     "execution_count": 16,
     "metadata": {},
     "output_type": "execute_result"
    }
   ],
   "source": [
    "firing_and_regions = pd.merge(firingData, regionsData, left_on='neuron', right_index=True)\n",
    "firing_and_regions.head()"
   ]
  },
  {
   "cell_type": "code",
   "execution_count": 17,
   "metadata": {
    "collapsed": false
   },
   "outputs": [
    {
     "data": {
      "text/html": [
       "<div>\n",
       "<table border=\"1\" class=\"dataframe\">\n",
       "  <thead>\n",
       "    <tr style=\"text-align: right;\">\n",
       "      <th></th>\n",
       "      <th>time</th>\n",
       "      <th>src</th>\n",
       "      <th>dest</th>\n",
       "      <th>inhibitor</th>\n",
       "      <th>src_region</th>\n",
       "      <th>dest_region</th>\n",
       "    </tr>\n",
       "  </thead>\n",
       "  <tbody>\n",
       "    <tr>\n",
       "      <th>0</th>\n",
       "      <td>19</td>\n",
       "      <td>2924</td>\n",
       "      <td>2918</td>\n",
       "      <td>0</td>\n",
       "      <td>92</td>\n",
       "      <td>92</td>\n",
       "    </tr>\n",
       "    <tr>\n",
       "      <th>393</th>\n",
       "      <td>103</td>\n",
       "      <td>2924</td>\n",
       "      <td>2918</td>\n",
       "      <td>0</td>\n",
       "      <td>92</td>\n",
       "      <td>92</td>\n",
       "    </tr>\n",
       "    <tr>\n",
       "      <th>1101</th>\n",
       "      <td>198</td>\n",
       "      <td>2924</td>\n",
       "      <td>2918</td>\n",
       "      <td>0</td>\n",
       "      <td>92</td>\n",
       "      <td>92</td>\n",
       "    </tr>\n",
       "    <tr>\n",
       "      <th>1942</th>\n",
       "      <td>267</td>\n",
       "      <td>2924</td>\n",
       "      <td>2918</td>\n",
       "      <td>0</td>\n",
       "      <td>92</td>\n",
       "      <td>92</td>\n",
       "    </tr>\n",
       "    <tr>\n",
       "      <th>2328</th>\n",
       "      <td>275</td>\n",
       "      <td>2924</td>\n",
       "      <td>2918</td>\n",
       "      <td>0</td>\n",
       "      <td>92</td>\n",
       "      <td>92</td>\n",
       "    </tr>\n",
       "  </tbody>\n",
       "</table>\n",
       "</div>"
      ],
      "text/plain": [
       "      time   src  dest  inhibitor  src_region  dest_region\n",
       "0       19  2924  2918          0          92           92\n",
       "393    103  2924  2918          0          92           92\n",
       "1101   198  2924  2918          0          92           92\n",
       "1942   267  2924  2918          0          92           92\n",
       "2328   275  2924  2918          0          92           92"
      ]
     },
     "execution_count": 17,
     "metadata": {},
     "output_type": "execute_result"
    }
   ],
   "source": [
    "regionsData = regionsData.rename(columns={'neuron':'src','region':'src_region'})\n",
    "input_and_regions = pd.merge(inputData, regionsData, left_on='src', right_index=True)\n",
    "regionsData = regionsData.rename(columns={'src':'dest','src_region':'dest_region'})\n",
    "input_and_regions = pd.merge(input_and_regions, regionsData, left_on='dest', right_index=True)\n",
    "input_and_regions.head()"
   ]
  },
  {
   "cell_type": "code",
   "execution_count": 24,
   "metadata": {
    "collapsed": true
   },
   "outputs": [],
   "source": [
    "# clear data\n",
    "ex = []\n",
    "ix = []\n",
    "\n",
    "# excitatory signals\n",
    "e = []\n",
    "# inhibitory signals\n",
    "i = []"
   ]
  },
  {
   "cell_type": "code",
   "execution_count": 25,
   "metadata": {
    "collapsed": false,
    "scrolled": true
   },
   "outputs": [
    {
     "data": {
      "text/html": [
       "<div>\n",
       "<table border=\"1\" class=\"dataframe\">\n",
       "  <thead>\n",
       "    <tr style=\"text-align: right;\">\n",
       "      <th></th>\n",
       "      <th>time</th>\n",
       "      <th>src</th>\n",
       "      <th>dest</th>\n",
       "      <th>inhibitor</th>\n",
       "      <th>src_region</th>\n",
       "      <th>dest_region</th>\n",
       "    </tr>\n",
       "  </thead>\n",
       "  <tbody>\n",
       "    <tr>\n",
       "      <th>3038</th>\n",
       "      <td>291</td>\n",
       "      <td>2912</td>\n",
       "      <td>2915</td>\n",
       "      <td>0</td>\n",
       "      <td>91</td>\n",
       "      <td>92</td>\n",
       "    </tr>\n",
       "    <tr>\n",
       "      <th>3223</th>\n",
       "      <td>294</td>\n",
       "      <td>6744</td>\n",
       "      <td>2922</td>\n",
       "      <td>1</td>\n",
       "      <td>91</td>\n",
       "      <td>92</td>\n",
       "    </tr>\n",
       "    <tr>\n",
       "      <th>3237</th>\n",
       "      <td>295</td>\n",
       "      <td>2912</td>\n",
       "      <td>2925</td>\n",
       "      <td>0</td>\n",
       "      <td>91</td>\n",
       "      <td>92</td>\n",
       "    </tr>\n",
       "    <tr>\n",
       "      <th>3197</th>\n",
       "      <td>294</td>\n",
       "      <td>2912</td>\n",
       "      <td>2935</td>\n",
       "      <td>0</td>\n",
       "      <td>91</td>\n",
       "      <td>92</td>\n",
       "    </tr>\n",
       "    <tr>\n",
       "      <th>3452</th>\n",
       "      <td>298</td>\n",
       "      <td>6744</td>\n",
       "      <td>2917</td>\n",
       "      <td>1</td>\n",
       "      <td>91</td>\n",
       "      <td>92</td>\n",
       "    </tr>\n",
       "    <tr>\n",
       "      <th>3406</th>\n",
       "      <td>297</td>\n",
       "      <td>2912</td>\n",
       "      <td>6746</td>\n",
       "      <td>0</td>\n",
       "      <td>91</td>\n",
       "      <td>92</td>\n",
       "    </tr>\n",
       "  </tbody>\n",
       "</table>\n",
       "</div>"
      ],
      "text/plain": [
       "      time   src  dest  inhibitor  src_region  dest_region\n",
       "3038   291  2912  2915          0          91           92\n",
       "3223   294  6744  2922          1          91           92\n",
       "3237   295  2912  2925          0          91           92\n",
       "3197   294  2912  2935          0          91           92\n",
       "3452   298  6744  2917          1          91           92\n",
       "3406   297  2912  6746          0          91           92"
      ]
     },
     "execution_count": 25,
     "metadata": {},
     "output_type": "execute_result"
    }
   ],
   "source": [
    "# An example of what our filtered data looks like.\n",
    "# It ignores firing within a region.\n",
    "# In this example, region 92 fired at time 300 and we track the inputs leading up to this.\n",
    "input_and_regions[(input_and_regions.dest_region==92)&(input_and_regions.src_region!=92)&(input_and_regions.time<300)&(input_and_regions.time>(300-time_range))]"
   ]
  },
  {
   "cell_type": "code",
   "execution_count": 26,
   "metadata": {
    "collapsed": false
   },
   "outputs": [
    {
     "data": {
      "text/html": [
       "<div>\n",
       "<table border=\"1\" class=\"dataframe\">\n",
       "  <thead>\n",
       "    <tr style=\"text-align: right;\">\n",
       "      <th></th>\n",
       "      <th>time</th>\n",
       "      <th>neuron</th>\n",
       "      <th>fired</th>\n",
       "      <th>region</th>\n",
       "    </tr>\n",
       "  </thead>\n",
       "  <tbody>\n",
       "    <tr>\n",
       "      <th>0</th>\n",
       "      <td>21</td>\n",
       "      <td>2919</td>\n",
       "      <td>1</td>\n",
       "      <td>92</td>\n",
       "    </tr>\n",
       "    <tr>\n",
       "      <th>148</th>\n",
       "      <td>228</td>\n",
       "      <td>2919</td>\n",
       "      <td>1</td>\n",
       "      <td>92</td>\n",
       "    </tr>\n",
       "    <tr>\n",
       "      <th>282</th>\n",
       "      <td>269</td>\n",
       "      <td>2919</td>\n",
       "      <td>1</td>\n",
       "      <td>92</td>\n",
       "    </tr>\n",
       "    <tr>\n",
       "      <th>352</th>\n",
       "      <td>280</td>\n",
       "      <td>2919</td>\n",
       "      <td>1</td>\n",
       "      <td>92</td>\n",
       "    </tr>\n",
       "    <tr>\n",
       "      <th>452</th>\n",
       "      <td>292</td>\n",
       "      <td>2919</td>\n",
       "      <td>1</td>\n",
       "      <td>92</td>\n",
       "    </tr>\n",
       "  </tbody>\n",
       "</table>\n",
       "</div>"
      ],
      "text/plain": [
       "     time  neuron  fired  region\n",
       "0      21    2919      1      92\n",
       "148   228    2919      1      92\n",
       "282   269    2919      1      92\n",
       "352   280    2919      1      92\n",
       "452   292    2919      1      92"
      ]
     },
     "execution_count": 26,
     "metadata": {},
     "output_type": "execute_result"
    }
   ],
   "source": [
    "firing_and_regions.head()"
   ]
  },
  {
   "cell_type": "code",
   "execution_count": 27,
   "metadata": {
    "collapsed": false
   },
   "outputs": [],
   "source": [
    "for fire_data in firing_and_regions.values:\n",
    "    region = fire_data[3]\n",
    "    t = fire_data[0]\n",
    "    # filter out firing w/in regions\n",
    "    filtered_input = input_and_regions[(input_and_regions.dest_region==region)&(input_and_regions.src_region!=region)&(input_and_regions.time<t)&(input_and_regions.time>(t-time_range))]\n",
    "    for row in filtered_input.values:\n",
    "        if row[3]:\n",
    "            ix.append(time_range-(t-row[0]))\n",
    "            i.append(region)\n",
    "        else:\n",
    "            ex.append(time_range-(t-row[0]))\n",
    "            e.append(region)"
   ]
  },
  {
   "cell_type": "code",
   "execution_count": 30,
   "metadata": {
    "collapsed": false
   },
   "outputs": [
    {
     "name": "stderr",
     "output_type": "stream",
     "text": [
      "/Users/cassiancorey/anaconda/lib/python3.5/site-packages/matplotlib/collections.py:590: FutureWarning: elementwise comparison failed; returning scalar instead, but in the future will perform elementwise comparison\n",
      "  if self._edgecolors == str('face'):\n"
     ]
    },
    {
     "data": {
      "image/png": "[encoded data removed]",
      "text/plain": [
       "<matplotlib.figure.Figure at 0x10c1d2940>"
      ]
     },
     "metadata": {},
     "output_type": "display_data"
    }
   ],
   "source": [
    "plt.scatter(ex, e, c='g')\n",
    "plt.scatter(ix, i, c='r')\n",
    "plt.show()"
   ]
  },
  {
   "cell_type": "code",
   "execution_count": 31,
   "metadata": {
    "collapsed": true
   },
   "outputs": [],
   "source": [
    "sum_ex = [0]*(time_range+1)\n",
    "sum_ix = [0]*(time_range+1)\n",
    "\n",
    "for k in ex:\n",
    "    sum_ex[k]+=1\n",
    "for k in ix:\n",
    "    sum_ix[k]+=1"
   ]
  },
  {
   "cell_type": "code",
   "execution_count": 32,
   "metadata": {
    "collapsed": false
   },
   "outputs": [
    {
     "data": {
      "image/png": "[encoded data removed]",
      "text/plain": [
       "<matplotlib.figure.Figure at 0x10f810be0>"
      ]
     },
     "metadata": {},
     "output_type": "display_data"
    }
   ],
   "source": [
    "index = np.arange(time_range+1)\n",
    "bar_width = 0.35\n",
    "\n",
    "opacity=1\n",
    "rects1 = plt.bar(index, sum_ex, bar_width,\n",
    "                 alpha=opacity,\n",
    "                 color='g',\n",
    "                 label='Excitatory')\n",
    "\n",
    "rects2 = plt.bar(index + bar_width, sum_ix, bar_width,\n",
    "                 alpha=opacity,\n",
    "                 color='r',\n",
    "                 label='Inhibitory')\n",
    "\n",
    "plt.xlabel('Time Step')\n",
    "plt.ylabel('Sum Inputs')\n",
    "plt.title('Total input signals at time step before output')\n",
    "plt.legend()\n",
    "\n",
    "plt.tight_layout()\n",
    "plt.show()"
   ]
  }
 ],
 "metadata": {
  "kernelspec": {
   "display_name": "Python 3",
   "language": "python",
   "name": "python3"
  },
  "language_info": {
   "codemirror_mode": {
    "name": "ipython",
    "version": 3
   },
   "file_extension": ".py",
   "mimetype": "text/x-python",
   "name": "python",
   "nbconvert_exporter": "python",
   "pygments_lexer": "ipython3",
   "version": "3.5.0"
  }
 },
 "nbformat": 4,
 "nbformat_minor": 0
}
